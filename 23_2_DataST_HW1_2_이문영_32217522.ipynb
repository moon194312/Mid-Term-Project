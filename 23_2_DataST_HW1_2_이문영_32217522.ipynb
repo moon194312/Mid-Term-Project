{
  "nbformat": 4,
  "nbformat_minor": 0,
  "metadata": {
    "colab": {
      "provenance": [],
      "include_colab_link": true
    },
    "kernelspec": {
      "name": "python3",
      "display_name": "Python 3"
    },
    "language_info": {
      "name": "python"
    }
  },
  "cells": [
    {
      "cell_type": "markdown",
      "metadata": {
        "id": "view-in-github",
        "colab_type": "text"
      },
      "source": [
        "<a href=\"https://colab.research.google.com/github/moon194312/Mid-Term-Project/blob/master/23_2_DataST_HW1_2_%EC%9D%B4%EB%AC%B8%EC%98%81_32217522.ipynb\" target=\"_parent\"><img src=\"https://colab.research.google.com/assets/colab-badge.svg\" alt=\"Open In Colab\"/></a>"
      ]
    },
    {
      "cell_type": "markdown",
      "metadata": {
        "id": "AJ2jp6bcJg2V"
      },
      "source": [
        "＃자료구조 1주차 과제\n",
        "- 이름: 이문영\n",
        "- 학번: 32217522\n",
        "\n",
        "- 과제: 4 문제 각 5점 : P2.2, P2.3, P2.4, P2.5\n",
        "\n",
        "** 풀지 못한 문제 - 만일 과제의 문제를 다 풀지 못한 경우, 여기에 풀지 못한 번호를 적으시오.\n",
        "P2.4\n",
        "\n",
        "\n",
        "## <font color='red' > 과제는 문제에 대한 코딩이 완성되고 테스트를 통해 검증된 경우만 점수가 부여되며, 이외 사항에 대해서는 0점 처리 </font>"
      ]
    },
    {
      "cell_type": "markdown",
      "source": [
        "문제 2.2\n",
        "다음 셀에 문제에 대한 답을 up_and_down_game 함수로 작성하시오."
      ],
      "metadata": {
        "id": "B9uoWFT9RxqT"
      }
    },
    {
      "cell_type": "code",
      "source": [
        "import random\n",
        "\n",
        "def up_and_down_game():\n",
        "    answer = random.randint(0,99)\n",
        "    min = 0\n",
        "    max = 99\n",
        "\n",
        "    for i in range(0, 9):\n",
        "      print(\"숫자를 입력하세요(범위:{0}~{1}):\".format(min, max), end=' ')\n",
        "      guess = int(input())\n",
        "      if(answer == guess):\n",
        "        print(\"\\t정답입니다. {}번 만에 맞추셨습니다.\".format(i+1))\n",
        "        break\n",
        "      elif answer < guess:\n",
        "        print(\"\\t아닙니다. 더 작은 숫자입니다!\")\n",
        "        max = guess\n",
        "      elif answer > guess:\n",
        "        print(\"\\t아닙니다. 더 큰 숫자입니다!\")\n",
        "        min = guess\n",
        "    print(\"\\t게임이 끝났습니다.\")"
      ],
      "metadata": {
        "id": "1fz0fwNMR-O0"
      },
      "execution_count": null,
      "outputs": []
    },
    {
      "cell_type": "markdown",
      "source": [
        "위에서 작성한 함수를 호출하여 정답을 맞추는 경우를 제시하시오."
      ],
      "metadata": {
        "id": "TMVoNZkzR_Tu"
      }
    },
    {
      "cell_type": "code",
      "source": [
        "up_and_down_game()"
      ],
      "metadata": {
        "id": "Pe2cCnB0TRpx",
        "colab": {
          "base_uri": "https://localhost:8080/"
        },
        "outputId": "82064998-ba1d-411c-91b0-1cfd786f135c"
      },
      "execution_count": null,
      "outputs": [
        {
          "output_type": "stream",
          "name": "stdout",
          "text": [
            "숫자를 입력하세요(범위:0~99): 50\n",
            "\t아닙니다. 더 작은 숫자입니다!\n",
            "숫자를 입력하세요(범위:0~50): 25\n",
            "\t아닙니다. 더 큰 숫자입니다!\n",
            "숫자를 입력하세요(범위:25~50): 38\n",
            "\t아닙니다. 더 큰 숫자입니다!\n",
            "숫자를 입력하세요(범위:38~50): 45\n",
            "\t아닙니다. 더 큰 숫자입니다!\n",
            "숫자를 입력하세요(범위:45~50): 47\n",
            "\t아닙니다. 더 큰 숫자입니다!\n",
            "숫자를 입력하세요(범위:47~50): 48\n",
            "\t정답입니다. 6번 만에 맞추셨습니다.\n",
            "\t게임이 끝났습니다.\n"
          ]
        }
      ]
    },
    {
      "cell_type": "markdown",
      "source": [
        "문제 2.3 다음 셀에 문제에 대한 답을 draw_triangle 함수로 작성하시오."
      ],
      "metadata": {
        "id": "9sulvy5lTSIQ"
      }
    },
    {
      "cell_type": "code",
      "source": [
        "def draw_triangle():\n",
        "  height = int(input(\"피라미드의 높이를 입력하세요.: \"))\n",
        "  for i in range(1, height+2):\n",
        "    a=1\n",
        "    for j in range(height-i+1, 0, -1):\n",
        "      print('\\t', end = '')\n",
        "    for j in range(1, i):\n",
        "      print(a, end = \"\\t\")\n",
        "      a = int(a+2)\n",
        "    a = int(a-4)\n",
        "    for j in range(1, i-1):\n",
        "      print(a, end = \"\\t\")\n",
        "      a = int(a-2)\n",
        "    print()"
      ],
      "metadata": {
        "id": "hKUl4qjITple"
      },
      "execution_count": null,
      "outputs": []
    },
    {
      "cell_type": "markdown",
      "source": [
        "위에서 작성한 함수에 21을 패러미터 값으로 호출하여 테스트를 아래 셀에 작성하시오.  "
      ],
      "metadata": {
        "id": "WjN-ziZFTqKN"
      }
    },
    {
      "cell_type": "code",
      "source": [
        "draw_triangle()"
      ],
      "metadata": {
        "id": "G6lbDTrgT42F",
        "colab": {
          "base_uri": "https://localhost:8080/"
        },
        "outputId": "fea541b0-8961-4973-9ce9-cf088ae3e802"
      },
      "execution_count": null,
      "outputs": [
        {
          "output_type": "stream",
          "name": "stdout",
          "text": [
            "피라미드의 높이를 입력하세요.: 21\n",
            "\t\t\t\t\t\t\t\t\t\t\t\t\t\t\t\t\t\t\t\t\t\n",
            "\t\t\t\t\t\t\t\t\t\t\t\t\t\t\t\t\t\t\t\t1\t\n",
            "\t\t\t\t\t\t\t\t\t\t\t\t\t\t\t\t\t\t\t1\t3\t1\t\n",
            "\t\t\t\t\t\t\t\t\t\t\t\t\t\t\t\t\t\t1\t3\t5\t3\t1\t\n",
            "\t\t\t\t\t\t\t\t\t\t\t\t\t\t\t\t\t1\t3\t5\t7\t5\t3\t1\t\n",
            "\t\t\t\t\t\t\t\t\t\t\t\t\t\t\t\t1\t3\t5\t7\t9\t7\t5\t3\t1\t\n",
            "\t\t\t\t\t\t\t\t\t\t\t\t\t\t\t1\t3\t5\t7\t9\t11\t9\t7\t5\t3\t1\t\n",
            "\t\t\t\t\t\t\t\t\t\t\t\t\t\t1\t3\t5\t7\t9\t11\t13\t11\t9\t7\t5\t3\t1\t\n",
            "\t\t\t\t\t\t\t\t\t\t\t\t\t1\t3\t5\t7\t9\t11\t13\t15\t13\t11\t9\t7\t5\t3\t1\t\n",
            "\t\t\t\t\t\t\t\t\t\t\t\t1\t3\t5\t7\t9\t11\t13\t15\t17\t15\t13\t11\t9\t7\t5\t3\t1\t\n",
            "\t\t\t\t\t\t\t\t\t\t\t1\t3\t5\t7\t9\t11\t13\t15\t17\t19\t17\t15\t13\t11\t9\t7\t5\t3\t1\t\n",
            "\t\t\t\t\t\t\t\t\t\t1\t3\t5\t7\t9\t11\t13\t15\t17\t19\t21\t19\t17\t15\t13\t11\t9\t7\t5\t3\t1\t\n",
            "\t\t\t\t\t\t\t\t\t1\t3\t5\t7\t9\t11\t13\t15\t17\t19\t21\t23\t21\t19\t17\t15\t13\t11\t9\t7\t5\t3\t1\t\n",
            "\t\t\t\t\t\t\t\t1\t3\t5\t7\t9\t11\t13\t15\t17\t19\t21\t23\t25\t23\t21\t19\t17\t15\t13\t11\t9\t7\t5\t3\t1\t\n",
            "\t\t\t\t\t\t\t1\t3\t5\t7\t9\t11\t13\t15\t17\t19\t21\t23\t25\t27\t25\t23\t21\t19\t17\t15\t13\t11\t9\t7\t5\t3\t1\t\n",
            "\t\t\t\t\t\t1\t3\t5\t7\t9\t11\t13\t15\t17\t19\t21\t23\t25\t27\t29\t27\t25\t23\t21\t19\t17\t15\t13\t11\t9\t7\t5\t3\t1\t\n",
            "\t\t\t\t\t1\t3\t5\t7\t9\t11\t13\t15\t17\t19\t21\t23\t25\t27\t29\t31\t29\t27\t25\t23\t21\t19\t17\t15\t13\t11\t9\t7\t5\t3\t1\t\n",
            "\t\t\t\t1\t3\t5\t7\t9\t11\t13\t15\t17\t19\t21\t23\t25\t27\t29\t31\t33\t31\t29\t27\t25\t23\t21\t19\t17\t15\t13\t11\t9\t7\t5\t3\t1\t\n",
            "\t\t\t1\t3\t5\t7\t9\t11\t13\t15\t17\t19\t21\t23\t25\t27\t29\t31\t33\t35\t33\t31\t29\t27\t25\t23\t21\t19\t17\t15\t13\t11\t9\t7\t5\t3\t1\t\n",
            "\t\t1\t3\t5\t7\t9\t11\t13\t15\t17\t19\t21\t23\t25\t27\t29\t31\t33\t35\t37\t35\t33\t31\t29\t27\t25\t23\t21\t19\t17\t15\t13\t11\t9\t7\t5\t3\t1\t\n",
            "\t1\t3\t5\t7\t9\t11\t13\t15\t17\t19\t21\t23\t25\t27\t29\t31\t33\t35\t37\t39\t37\t35\t33\t31\t29\t27\t25\t23\t21\t19\t17\t15\t13\t11\t9\t7\t5\t3\t1\t\n",
            "1\t3\t5\t7\t9\t11\t13\t15\t17\t19\t21\t23\t25\t27\t29\t31\t33\t35\t37\t39\t41\t39\t37\t35\t33\t31\t29\t27\t25\t23\t21\t19\t17\t15\t13\t11\t9\t7\t5\t3\t1\t\n"
          ]
        }
      ]
    },
    {
      "cell_type": "markdown",
      "source": [
        "문제 2.4 다음 셀에 문제에 대한 답을 draw_tree 라는 함수로 작성하시오. 지정된 함수는 순환 함수(Recursive function)임에 유의하시오. 또한 결과는 2차원 배열 map 을 사용한다고 가정하시오."
      ],
      "metadata": {
        "id": "Zi4K5qZAT5SM"
      }
    },
    {
      "cell_type": "code",
      "source": [
        "def draw_tree(row, left, right):\n",
        "\n",
        "  if ROWS == row:\n",
        "    return\n",
        "\n",
        "  x = int(COLS / 2)\n",
        "  next = int(COLS / 2)\n",
        "\n",
        "  for i in range(row):\n",
        "    x = int(x / 2)\n",
        "\n",
        "  for i in range(row-1):\n",
        "    next = int(next / 2)\n",
        "\n",
        "  map[row][x]= 'X'\n",
        "\n",
        "  while (x + next <= right  and next != 0):\n",
        "    x += next\n",
        "    map[row][x] = 'X'\n",
        "\n",
        "  draw_tree(row + 1, left, right)\n",
        "\n",
        "\n",
        "\n",
        "def print_tree():\n",
        "  for i in range(len(map)):\n",
        "    for j in range(1, len(map[i])):\n",
        "      if map[i][j] == 'X':\n",
        "        print('X', end=\"\")\n",
        "      else:\n",
        "        print('-', end=\"\")\n",
        "    print()\n",
        "\n",
        "ROWS = 6\n",
        "COLS = 64"
      ],
      "metadata": {
        "id": "NOkNAuAf1Slm"
      },
      "execution_count": null,
      "outputs": []
    },
    {
      "cell_type": "markdown",
      "source": [
        "다음에 map 을 출력하는 print_tree 라는 함수를 작성하시오."
      ],
      "metadata": {
        "id": "q37Jev0AVjiY"
      }
    },
    {
      "cell_type": "code",
      "source": [],
      "metadata": {
        "id": "Qc_iSLIr1XTQ"
      },
      "execution_count": null,
      "outputs": []
    },
    {
      "cell_type": "markdown",
      "source": [
        "다음의 코드를 이용하여 위에서 정의한 함수를 테스트 하시오. 수정하지 말 것."
      ],
      "metadata": {
        "id": "H0n9WWDRVN2e"
      }
    },
    {
      "cell_type": "code",
      "source": [
        "ROWS = 6\n",
        "COLS = 64\n",
        "map = [[0 for x in range(COLS)] for x in range(ROWS)]\n",
        "draw_tree(0, 0, COLS-1)\n",
        "print_tree()"
      ],
      "metadata": {
        "id": "vWba13s6VKSi"
      },
      "execution_count": null,
      "outputs": []
    },
    {
      "cell_type": "markdown",
      "source": [
        "문제 2.5 다음 셀에 Bag 클래스를 작성하시오."
      ],
      "metadata": {
        "id": "t52V7RGuV55i"
      }
    },
    {
      "cell_type": "code",
      "source": [
        "class Bag:\n",
        "  def __init__(self):\n",
        "    self.bag = []\n",
        "  def insert(self, e):\n",
        "    self.bag.append(e)\n",
        "  def remove(self, e):\n",
        "    self.bag.remove(e)"
      ],
      "metadata": {
        "id": "HoYz1IJqWADg"
      },
      "execution_count": null,
      "outputs": []
    },
    {
      "cell_type": "markdown",
      "source": [
        "다음의 코드를 이용하여 위에서 작성한 Bag 클래스를 테스트 하시오."
      ],
      "metadata": {
        "id": "LnKC6XlOWAdN"
      }
    },
    {
      "cell_type": "code",
      "source": [
        "myBag = Bag()\n",
        "myBag.insert('휴대폰');    myBag.insert('지갑')\n",
        "myBag.insert('손수건');    myBag.insert('빗')\n",
        "myBag.insert('자료구조');  myBag.insert('야구공')\n",
        "print('가방속의 물건:', myBag.bag)\n",
        "\n",
        "myBag.insert('빗')\n",
        "myBag.remove('손수건')\n",
        "print('가방속의 물건:', myBag.bag)"
      ],
      "metadata": {
        "id": "1v04nkNQWPoU",
        "colab": {
          "base_uri": "https://localhost:8080/"
        },
        "outputId": "b46f753e-45c3-442d-b903-31c6c1be414c"
      },
      "execution_count": null,
      "outputs": [
        {
          "output_type": "stream",
          "name": "stdout",
          "text": [
            "가방속의 물건: ['휴대폰', '지갑', '손수건', '빗', '자료구조', '야구공']\n",
            "가방속의 물건: ['휴대폰', '지갑', '빗', '자료구조', '야구공', '빗']\n"
          ]
        }
      ]
    }
  ]
}